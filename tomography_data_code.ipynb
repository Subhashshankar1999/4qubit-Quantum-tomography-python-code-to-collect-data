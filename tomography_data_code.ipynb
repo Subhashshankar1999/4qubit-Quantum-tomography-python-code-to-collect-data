{
 "cells": [
  {
   "cell_type": "code",
   "execution_count": 1,
   "metadata": {},
   "outputs": [],
   "source": [
    "from qiskit import QuantumCircuit, Aer, transpile, assemble\n",
    "from qiskit.visualization import plot_histogram, plot_bloch_multivector\n",
    "import numpy as np\n",
    "from numpy import pi as pi\n",
    "from qiskit import IBMQ\n",
    "from qiskit import*\n",
    "import pandas as pd"
   ]
  },
  {
   "cell_type": "code",
   "execution_count": 2,
   "metadata": {},
   "outputs": [],
   "source": [
    "xm = QuantumCircuit(1)\n",
    "xm.h(0)\n",
    "xmg = xm.to_gate()\n",
    "\n",
    "ym = QuantumCircuit(1)\n",
    "ym.sdg(0)\n",
    "ym.h(0)\n",
    "ymg = ym.to_gate()\n",
    "\n",
    "zm = QuantumCircuit(1)\n",
    "zm.i(0)\n",
    "zmg = zm.to_gate()\n",
    "\n",
    "im = QuantumCircuit(1)\n",
    "im.i(0)\n",
    "img = im.to_gate()"
   ]
  },
  {
   "cell_type": "code",
   "execution_count": null,
   "metadata": {},
   "outputs": [
    {
     "name": "stdout",
     "output_type": "stream",
     "text": [
      "Job Status: job is queued (1)     "
     ]
    }
   ],
   "source": [
    "m=[img, xmg, ymg ,zmg]\n",
    "IBMQ.load_account()\n",
    "rus = []\n",
    "name=[]\n",
    "job_idd =[]\n",
    "for i in range(0,4):\n",
    "    for j in range(0,4):\n",
    "        for k in range(0,4):\n",
    "            for l in range(0,4):\n",
    "                if(i==j==k==l==0):\n",
    "                    pass\n",
    "                else:\n",
    "                    tc = QuantumCircuit(4,4)\n",
    "                    tc.h([0,2])\n",
    "                    tc.cx(0,1)\n",
    "                    tc.cx(2,3)\n",
    "                    tc.p(pi/16,0)\n",
    "                    tc.p(pi/16,1)\n",
    "                    tc.p(pi/32,2)\n",
    "                    tc.p(pi/32,3)\n",
    "                    tc.cp(pi/2,0,2)\n",
    "                    tc.cp(pi/2,1,3)\n",
    "\n",
    "                    tc.append(m[i], [0])\n",
    "                    tc.append(m[j], [1])\n",
    "                    tc.append(m[k], [2])\n",
    "                    tc.append(m[l], [3])\n",
    "                    if(i==0):\n",
    "                        pass\n",
    "                    else:\n",
    "                        tc.measure(i,[0])\n",
    "                        pass\n",
    "                    if(j==0):\n",
    "                        pass\n",
    "                    else:\n",
    "                        tc.measure(j,[1])\n",
    "                        pass\n",
    "                    if(k==0):\n",
    "                        pass\n",
    "                    else:\n",
    "                        tc.measure(k,[2])\n",
    "                        pass\n",
    "                    if(l==0):\n",
    "                        pass\n",
    "                    else:\n",
    "                        tc.measure(l,[3])\n",
    "                        pass\n",
    "\n",
    "                    provider = IBMQ.get_provider(hub='ibm-q-research', group='research-open', project='general')\n",
    "                    casa = provider.get_backend('ibmq_casablanca')\n",
    "\n",
    "                    job = execute(tc, backend=casa, shots=5000)\n",
    "                    from qiskit.tools.monitor import job_monitor\n",
    "                    job_monitor(job)\n",
    "                    result = job.result()\n",
    "                    idd = result.job_id\n",
    "                    result = result.get_counts(tc)\n",
    "                    rnd1 = (result)\n",
    "                    rus.append(rnd1)\n",
    "                    name.append([i+1,j+1,k+1,l+1])\n",
    "                    job_idd.append(idd)\n",
    "                \n",
    "            "
   ]
  },
  {
   "cell_type": "code",
   "execution_count": null,
   "metadata": {},
   "outputs": [],
   "source": [
    "print(rus)"
   ]
  },
  {
   "cell_type": "code",
   "execution_count": null,
   "metadata": {},
   "outputs": [],
   "source": [
    "df = pd.DataFrame(rus)\n",
    "df.insert(loc = 0, column =\"Basis\",value = name)\n",
    "display(df)"
   ]
  },
  {
   "cell_type": "code",
   "execution_count": null,
   "metadata": {},
   "outputs": [],
   "source": [
    "df.to_csv('qb_tomography_data2')"
   ]
  },
  {
   "cell_type": "code",
   "execution_count": null,
   "metadata": {},
   "outputs": [],
   "source": [
    "rf_id = pd.DataFrame(job_idd)\n",
    "rf_id.to_csv('rff_job_id_qb_tomography_data2')"
   ]
  },
  {
   "cell_type": "code",
   "execution_count": null,
   "metadata": {},
   "outputs": [],
   "source": []
  }
 ],
 "metadata": {
  "kernelspec": {
   "display_name": "Python 3",
   "language": "python",
   "name": "python3"
  },
  "language_info": {
   "codemirror_mode": {
    "name": "ipython",
    "version": 3
   },
   "file_extension": ".py",
   "mimetype": "text/x-python",
   "name": "python",
   "nbconvert_exporter": "python",
   "pygments_lexer": "ipython3",
   "version": "3.7.6"
  }
 },
 "nbformat": 4,
 "nbformat_minor": 4
}
